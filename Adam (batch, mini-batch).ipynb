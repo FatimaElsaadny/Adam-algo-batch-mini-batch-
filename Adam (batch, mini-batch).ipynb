{
  "cells": [
    {
      "cell_type": "markdown",
      "metadata": {
        "id": "view-in-github",
        "colab_type": "text"
      },
      "source": [
        "<a href=\"https://colab.research.google.com/github/FatimaElsaadny/Adam-algo-batch-mini-batch-/blob/main/Adam%20(batch%2C%20mini-batch).ipynb\" target=\"_parent\"><img src=\"https://colab.research.google.com/assets/colab-badge.svg\" alt=\"Open In Colab\"/></a>"
      ]
    },
    {
      "cell_type": "code",
      "execution_count": null,
      "id": "0cbf0144",
      "metadata": {
        "id": "0cbf0144"
      },
      "outputs": [],
      "source": [
        "import numpy as np\n",
        "import pandas as pd\n",
        "import matplotlib.pyplot as plt\n",
        "import matplotlib.pyplot as plt\n",
        "from mpl_toolkits.mplot3d import Axes3D\n",
        "from matplotlib import cm # imports color map tools\n",
        "\n",
        "from sklearn.metrics import r2_score\n",
        "import numpy.linalg as la"
      ]
    },
    {
      "cell_type": "code",
      "source": [
        "from google.colab import drive\n",
        "drive.mount('/content/drive')"
      ],
      "metadata": {
        "id": "cWABxeUWJUym",
        "outputId": "3d93f5f6-9465-43ab-b5f6-b12d2ef11945",
        "colab": {
          "base_uri": "https://localhost:8080/"
        }
      },
      "id": "cWABxeUWJUym",
      "execution_count": null,
      "outputs": [
        {
          "output_type": "stream",
          "name": "stdout",
          "text": [
            "Drive already mounted at /content/drive; to attempt to forcibly remount, call drive.mount(\"/content/drive\", force_remount=True).\n"
          ]
        }
      ]
    },
    {
      "cell_type": "markdown",
      "source": [
        "# Load data and Explore it"
      ],
      "metadata": {
        "id": "Uwx7RN3fpenJ"
      },
      "id": "Uwx7RN3fpenJ"
    },
    {
      "cell_type": "code",
      "source": [
        "file_path = '/content/drive/MyDrive/Colab Notebooks/Datasets/MultipleLR.csv'"
      ],
      "metadata": {
        "id": "4ZngDWVDJL5E"
      },
      "id": "4ZngDWVDJL5E",
      "execution_count": null,
      "outputs": []
    },
    {
      "cell_type": "code",
      "source": [
        "data = pd.read_csv(file_path, header= None)\n",
        "data.shape"
      ],
      "metadata": {
        "id": "sS15a1zTJPrE",
        "outputId": "3875e456-4dc9-4c8c-ef2b-96447f4d198a",
        "colab": {
          "base_uri": "https://localhost:8080/"
        }
      },
      "id": "sS15a1zTJPrE",
      "execution_count": null,
      "outputs": [
        {
          "output_type": "execute_result",
          "data": {
            "text/plain": [
              "(25, 4)"
            ]
          },
          "metadata": {},
          "execution_count": 462
        }
      ]
    },
    {
      "cell_type": "code",
      "source": [
        "x = np.array(data.iloc[:, : 3])\n",
        "y = np.array(data.iloc[:,-1]).reshape(-1,1)\n",
        "x"
      ],
      "metadata": {
        "id": "l4Y7ijhaJSpL",
        "outputId": "c4491909-a9c8-4782-c091-4c09b0a4e7a6",
        "colab": {
          "base_uri": "https://localhost:8080/"
        }
      },
      "id": "l4Y7ijhaJSpL",
      "execution_count": null,
      "outputs": [
        {
          "output_type": "execute_result",
          "data": {
            "text/plain": [
              "array([[ 73,  80,  75],\n",
              "       [ 93,  88,  93],\n",
              "       [ 89,  91,  90],\n",
              "       [ 96,  98, 100],\n",
              "       [ 73,  66,  70],\n",
              "       [ 53,  46,  55],\n",
              "       [ 69,  74,  77],\n",
              "       [ 47,  56,  60],\n",
              "       [ 87,  79,  90],\n",
              "       [ 79,  70,  88],\n",
              "       [ 69,  70,  73],\n",
              "       [ 70,  65,  74],\n",
              "       [ 93,  95,  91],\n",
              "       [ 79,  80,  73],\n",
              "       [ 70,  73,  78],\n",
              "       [ 93,  89,  96],\n",
              "       [ 78,  75,  68],\n",
              "       [ 81,  90,  93],\n",
              "       [ 88,  92,  86],\n",
              "       [ 78,  83,  77],\n",
              "       [ 82,  86,  90],\n",
              "       [ 86,  82,  89],\n",
              "       [ 78,  83,  85],\n",
              "       [ 76,  83,  71],\n",
              "       [ 96,  93,  95]])"
            ]
          },
          "metadata": {},
          "execution_count": 463
        }
      ]
    },
    {
      "cell_type": "code",
      "source": [
        "ones = np.ones((x.shape[0],1 ))\n",
        "x = np.concatenate((ones, x), axis= 1)\n",
        "x"
      ],
      "metadata": {
        "id": "ltBUOht0JmBs",
        "outputId": "162c2722-4a4a-47cb-cf12-4cd840001cd0",
        "colab": {
          "base_uri": "https://localhost:8080/"
        }
      },
      "id": "ltBUOht0JmBs",
      "execution_count": null,
      "outputs": [
        {
          "output_type": "execute_result",
          "data": {
            "text/plain": [
              "array([[  1.,  73.,  80.,  75.],\n",
              "       [  1.,  93.,  88.,  93.],\n",
              "       [  1.,  89.,  91.,  90.],\n",
              "       [  1.,  96.,  98., 100.],\n",
              "       [  1.,  73.,  66.,  70.],\n",
              "       [  1.,  53.,  46.,  55.],\n",
              "       [  1.,  69.,  74.,  77.],\n",
              "       [  1.,  47.,  56.,  60.],\n",
              "       [  1.,  87.,  79.,  90.],\n",
              "       [  1.,  79.,  70.,  88.],\n",
              "       [  1.,  69.,  70.,  73.],\n",
              "       [  1.,  70.,  65.,  74.],\n",
              "       [  1.,  93.,  95.,  91.],\n",
              "       [  1.,  79.,  80.,  73.],\n",
              "       [  1.,  70.,  73.,  78.],\n",
              "       [  1.,  93.,  89.,  96.],\n",
              "       [  1.,  78.,  75.,  68.],\n",
              "       [  1.,  81.,  90.,  93.],\n",
              "       [  1.,  88.,  92.,  86.],\n",
              "       [  1.,  78.,  83.,  77.],\n",
              "       [  1.,  82.,  86.,  90.],\n",
              "       [  1.,  86.,  82.,  89.],\n",
              "       [  1.,  78.,  83.,  85.],\n",
              "       [  1.,  76.,  83.,  71.],\n",
              "       [  1.,  96.,  93.,  95.]])"
            ]
          },
          "metadata": {},
          "execution_count": 464
        }
      ]
    },
    {
      "cell_type": "markdown",
      "source": [
        "# Implement Ploting Func"
      ],
      "metadata": {
        "id": "eMoh6CmrbtIn"
      },
      "id": "eMoh6CmrbtIn"
    },
    {
      "cell_type": "code",
      "source": [
        "def lossVStheta(x,y, n):\n",
        "  plt.plot(x, y,c= 'g', marker= 'o')\n",
        "  plt.plot(x[-1], y[-1], c= 'r', marker= 'v')\n",
        "  plt.xlabel(\"theta_\"+str(n))\n",
        "  plt.ylabel(\"Loss values\")\n",
        "  plt.title(\"loss vs. theta_0\")\n",
        "  plt.show()"
      ],
      "metadata": {
        "id": "oNxXY_p2WdSk"
      },
      "id": "oNxXY_p2WdSk",
      "execution_count": null,
      "outputs": []
    },
    {
      "cell_type": "code",
      "source": [
        "def lossVSiteration(x,y):\n",
        "  plt.plot(x, y, marker= 'o')\n",
        "  plt.xlabel(\"umber of iteration\")\n",
        "  plt.ylabel(\"Loss values\")\n",
        "  plt.title(\"loss vs. iterations\")\n",
        "  plt.show()\n",
        "\n"
      ],
      "metadata": {
        "id": "IybQMtQkViCc"
      },
      "id": "IybQMtQkViCc",
      "execution_count": null,
      "outputs": []
    },
    {
      "cell_type": "markdown",
      "source": [
        "# Implement Adam with Batch Gradient Descent"
      ],
      "metadata": {
        "id": "YyxRMHuyVPrk"
      },
      "id": "YyxRMHuyVPrk"
    },
    {
      "cell_type": "code",
      "source": [
        "def AdamGD(x, y, epocs= 10000, alpha= 0.01, beta1= 0.2, beta2=0.2):\n",
        "  iters = 0\n",
        "  n_sample = len(x)\n",
        "\n",
        "  thetas = []\n",
        "  # thetas_1 = []\n",
        "  loss_list = []\n",
        "  hypothesis_list = []\n",
        "\n",
        "  theta = np.array(np.zeros((x.shape[1])).reshape(-1,1))\n",
        "  mt = np.array(np.zeros((x.shape[1])).reshape(-1,1))\n",
        "  vt = np.array(np.zeros((x.shape[1])).reshape(-1,1))\n",
        "  while(iters < epocs ):\n",
        "    iters+=1\n",
        "    thetas.append( theta)\n",
        "   \n",
        "    y_pred = x @ theta\n",
        "    hypothesis_list.append(y_pred)\n",
        "\n",
        "    z = y_pred - y\n",
        "    j_cost = np.sum(z*z)/ 2*n_sample\n",
        "    loss_list.append(j_cost) \n",
        "    gd_theta = (np.dot(x.T, z)/ n_sample).reshape(-1,1)\n",
        "\n",
        "    #  Apply the stop conditions (gradient < 0.001 and cost convergence check)\n",
        "    if ((iters > 2) and (np.abs(j_cost- loss_list[-2])  <= 0.3)) or (la.norm(gd_theta) < 0.001):\n",
        "      return iters, thetas, loss_list, hypothesis_list, theta\n",
        "      \n",
        "    else:   \n",
        "      mt = beta1 * mt + (1-beta1) * gd_theta\n",
        "      vt = beta2 * vt + (1-beta2) * gd_theta**2\n",
        "      theta = (theta - (alpha/ np.sqrt(vt+ 0.0001))* mt)\n",
        "      \n",
        "  return iters, thetas, loss_list, hypothesis_list, theta \n"
      ],
      "metadata": {
        "id": "a4TU3JNIJpm4"
      },
      "id": "a4TU3JNIJpm4",
      "execution_count": null,
      "outputs": []
    },
    {
      "cell_type": "code",
      "source": [
        "\n",
        "iters, thetas, loss_list, hypothesis_list, theta  = AdamGD(x,y)\n",
        "iters"
      ],
      "metadata": {
        "id": "fOnHA_icJvQw",
        "outputId": "9e5ca586-5ce2-45e6-8655-f88544f510b9",
        "colab": {
          "base_uri": "https://localhost:8080/"
        }
      },
      "id": "fOnHA_icJvQw",
      "execution_count": null,
      "outputs": [
        {
          "output_type": "execute_result",
          "data": {
            "text/plain": [
              "98"
            ]
          },
          "metadata": {},
          "execution_count": 468
        }
      ]
    },
    {
      "cell_type": "markdown",
      "source": [
        "# Score"
      ],
      "metadata": {
        "id": "TPxTdbC-mbGl"
      },
      "id": "TPxTdbC-mbGl"
    },
    {
      "cell_type": "code",
      "source": [
        "\n",
        "r2 = r2_score(y,hypothesis_list[-1])\n",
        "r2\n"
      ],
      "metadata": {
        "id": "28210ANVKCID",
        "outputId": "ceb029ea-aeba-4eea-986a-9439146c8132",
        "colab": {
          "base_uri": "https://localhost:8080/"
        }
      },
      "id": "28210ANVKCID",
      "execution_count": null,
      "outputs": [
        {
          "output_type": "execute_result",
          "data": {
            "text/plain": [
              "0.9780413371219793"
            ]
          },
          "metadata": {},
          "execution_count": 469
        }
      ]
    },
    {
      "cell_type": "markdown",
      "source": [
        "## Loss vs. iterations"
      ],
      "metadata": {
        "id": "RnvAPq9ZWEPO"
      },
      "id": "RnvAPq9ZWEPO"
    },
    {
      "cell_type": "code",
      "source": [
        "lossVSiteration([i+1 for i in range(iters)], loss_list)"
      ],
      "metadata": {
        "id": "_wJcZuEZb0wG",
        "outputId": "fbabb639-0cec-4bc7-f979-3bca96eaec5a",
        "colab": {
          "base_uri": "https://localhost:8080/",
          "height": 295
        }
      },
      "id": "_wJcZuEZb0wG",
      "execution_count": null,
      "outputs": [
        {
          "output_type": "display_data",
          "data": {
            "text/plain": [
              "<Figure size 432x288 with 1 Axes>"
            ],
            "image/png": "[encoded data removed]"
          },
          "metadata": {
            "needs_background": "light"
          }
        }
      ]
    },
    {
      "cell_type": "markdown",
      "source": [
        "## Loss vs. each parameter"
      ],
      "metadata": {
        "id": "SY_x7gvJWfQJ"
      },
      "id": "SY_x7gvJWfQJ"
    },
    {
      "cell_type": "code",
      "source": [
        "theta0 = [ i[0,0] for i in thetas]\n",
        "lossVStheta(theta0, loss_list, 0)"
      ],
      "metadata": {
        "id": "vRpGCK7IXDmN",
        "outputId": "d6baf64d-a2e4-49e9-e2fc-47079567833e",
        "colab": {
          "base_uri": "https://localhost:8080/",
          "height": 296
        }
      },
      "id": "vRpGCK7IXDmN",
      "execution_count": null,
      "outputs": [
        {
          "output_type": "display_data",
          "data": {
            "text/plain": [
              "<Figure size 432x288 with 1 Axes>"
            ],
            "image/png": "[encoded data removed]"
          },
          "metadata": {
            "needs_background": "light"
          }
        }
      ]
    },
    {
      "cell_type": "code",
      "source": [
        "theta1 = [ i[1,0] for i in thetas]\n",
        "lossVStheta(theta1, loss_list, 1)"
      ],
      "metadata": {
        "id": "vts88ay0XH1q",
        "outputId": "60f95e20-f1f1-4566-c49a-fbd3b5a662c3",
        "colab": {
          "base_uri": "https://localhost:8080/",
          "height": 296
        }
      },
      "id": "vts88ay0XH1q",
      "execution_count": null,
      "outputs": [
        {
          "output_type": "display_data",
          "data": {
            "text/plain": [
              "<Figure size 432x288 with 1 Axes>"
            ],
            "image/png": "[encoded data removed]"
          },
          "metadata": {
            "needs_background": "light"
          }
        }
      ]
    },
    {
      "cell_type": "code",
      "source": [
        "theta2 = [ i[2,0] for i in thetas]\n",
        "lossVStheta(theta2, loss_list, 2)"
      ],
      "metadata": {
        "id": "5fAFmy-qbP-f",
        "outputId": "e2e29ea8-ca5b-44c5-8ee5-3f40d5ea9845",
        "colab": {
          "base_uri": "https://localhost:8080/",
          "height": 296
        }
      },
      "id": "5fAFmy-qbP-f",
      "execution_count": null,
      "outputs": [
        {
          "output_type": "display_data",
          "data": {
            "text/plain": [
              "<Figure size 432x288 with 1 Axes>"
            ],
            "image/png": "[encoded data removed]"
          },
          "metadata": {
            "needs_background": "light"
          }
        }
      ]
    },
    {
      "cell_type": "code",
      "source": [
        "theta3 = [ i[3,0] for i in thetas]\n",
        "lossVStheta(theta3, loss_list, 3)"
      ],
      "metadata": {
        "id": "8TPEwjc8bXcw",
        "outputId": "6c3d502d-df5c-46b2-a020-043bd87edb7a",
        "colab": {
          "base_uri": "https://localhost:8080/",
          "height": 296
        }
      },
      "id": "8TPEwjc8bXcw",
      "execution_count": null,
      "outputs": [
        {
          "output_type": "display_data",
          "data": {
            "text/plain": [
              "<Figure size 432x288 with 1 Axes>"
            ],
            "image/png": "[encoded data removed]"
          },
          "metadata": {
            "needs_background": "light"
          }
        }
      ]
    },
    {
      "cell_type": "markdown",
      "source": [
        "# Adam with Mini-batch"
      ],
      "metadata": {
        "id": "AJgRF8g4RaOx"
      },
      "id": "AJgRF8g4RaOx"
    },
    {
      "cell_type": "code",
      "source": [
        "def AdamMB(x, y, epocs= 10000, batch= 10, alpha= 0.01, beta1= 0.05, beta2=0.1):\n",
        "  iters = 0\n",
        "  n_sample = len(x)\n",
        "\n",
        "  thetas = []\n",
        "  # thetas_1 = []\n",
        "  loss_list = []\n",
        "  hypothesis_list = []\n",
        "\n",
        "  theta = np.array(np.zeros((x.shape[1])).reshape(-1,1))\n",
        "  mt = np.array(np.zeros((x.shape[1])).reshape(-1,1))\n",
        "  vt = np.array(np.zeros((x.shape[1])).reshape(-1,1))\n",
        "  print(theta.shape)\n",
        "  while(iters < epocs ):\n",
        "    y_pred = []\n",
        "    for i in range(0, n_sample+1, batch):\n",
        "\n",
        "      thetas.append( theta)\n",
        "\n",
        "      xi = x[i:i+batch]\n",
        "      yi = y[i:i+batch]\n",
        "\n",
        "      yi_pred = xi @ theta\n",
        "      y_pred.append(yi_pred)\n",
        "\n",
        "      zi = yi_pred - yi\n",
        "      ji_cost = np.sum(zi*zi)/ 2*batch\n",
        "      loss_list.append(ji_cost)\n",
        "\n",
        "      gd_theta = (np.dot(xi.T, zi)/ batch).reshape(-1,1)\n",
        "      mt = beta1 * mt + (1-beta1) * gd_theta\n",
        "      vt = beta2 * vt + (1-beta2) * gd_theta**2\n",
        "      theta = theta - (alpha/ np.sqrt(vt+ 0.0001))* mt\n",
        "   \n",
        "    \n",
        "    hypothesis_list.append(y_pred)\n",
        "    iters+=1\n",
        "    if (np.abs(loss_list[-1]- loss_list[-2])  <= 0.1) or (la.norm(gd_theta) < 0.001):\n",
        "      return iters, thetas, loss_list, hypothesis_list, theta\n",
        "\n",
        "\n",
        "  return iters, thetas, loss_list, hypothesis_list, theta \n"
      ],
      "metadata": {
        "id": "D69fiwFOM6w4"
      },
      "id": "D69fiwFOM6w4",
      "execution_count": null,
      "outputs": []
    },
    {
      "cell_type": "code",
      "source": [
        "batch = 10\n",
        "iters, thetas, loss_list, hypothesis_list, theta = AdamMB(x, y, batch = batch)\n",
        "iters"
      ],
      "metadata": {
        "id": "1PF3LoNWUWq8",
        "outputId": "6571c632-5b58-4629-9f93-9a9b848f123b",
        "colab": {
          "base_uri": "https://localhost:8080/"
        }
      },
      "id": "1PF3LoNWUWq8",
      "execution_count": null,
      "outputs": [
        {
          "output_type": "stream",
          "name": "stdout",
          "text": [
            "(4, 1)\n"
          ]
        },
        {
          "output_type": "execute_result",
          "data": {
            "text/plain": [
              "1310"
            ]
          },
          "metadata": {},
          "execution_count": 476
        }
      ]
    },
    {
      "cell_type": "markdown",
      "source": [
        "# Score"
      ],
      "metadata": {
        "id": "Pvy6aDkKmhkV"
      },
      "id": "Pvy6aDkKmhkV"
    },
    {
      "cell_type": "code",
      "source": [
        "y_pre = np.dot(x, theta)\n",
        "r2 = r2_score(y,y_pre)\n",
        "r2\n"
      ],
      "metadata": {
        "id": "jYY4mqQ_UgKd",
        "outputId": "1e0181a2-ea3b-4c2f-d93d-9b6db3b1ff80",
        "colab": {
          "base_uri": "https://localhost:8080/"
        }
      },
      "id": "jYY4mqQ_UgKd",
      "execution_count": null,
      "outputs": [
        {
          "output_type": "execute_result",
          "data": {
            "text/plain": [
              "0.9737460139846333"
            ]
          },
          "metadata": {},
          "execution_count": 477
        }
      ]
    },
    {
      "cell_type": "markdown",
      "source": [
        "## Loss vs. iterations"
      ],
      "metadata": {
        "id": "1O2Y5NadmlL8"
      },
      "id": "1O2Y5NadmlL8"
    },
    {
      "cell_type": "code",
      "source": [
        "allIters = iters* (int((len(x)/ 10))+1)\n",
        "lossVSiteration([i+1 for i in range(allIters)],loss_list)"
      ],
      "metadata": {
        "id": "J7m3wvbEVHSh",
        "outputId": "8c31e109-f283-4234-c783-a0b59c4e0e07",
        "colab": {
          "base_uri": "https://localhost:8080/",
          "height": 295
        }
      },
      "id": "J7m3wvbEVHSh",
      "execution_count": null,
      "outputs": [
        {
          "output_type": "display_data",
          "data": {
            "text/plain": [
              "<Figure size 432x288 with 1 Axes>"
            ],
            "image/png": "[encoded data removed]"
          },
          "metadata": {
            "needs_background": "light"
          }
        }
      ]
    },
    {
      "cell_type": "markdown",
      "source": [
        "## Loss vs. parameters"
      ],
      "metadata": {
        "id": "yVXoeHFvm1r-"
      },
      "id": "yVXoeHFvm1r-"
    },
    {
      "cell_type": "code",
      "source": [
        "theta0 = [ i[0,0] for i in thetas]\n",
        "lossVStheta(theta0, loss_list, 0)"
      ],
      "metadata": {
        "id": "JxY4w37PeaeQ",
        "outputId": "b30e5936-fed6-431e-ff47-34ebb3fd2d3d",
        "colab": {
          "base_uri": "https://localhost:8080/",
          "height": 296
        }
      },
      "id": "JxY4w37PeaeQ",
      "execution_count": null,
      "outputs": [
        {
          "output_type": "display_data",
          "data": {
            "text/plain": [
              "<Figure size 432x288 with 1 Axes>"
            ],
            "image/png": "[encoded data removed]"
          },
          "metadata": {
            "needs_background": "light"
          }
        }
      ]
    },
    {
      "cell_type": "code",
      "source": [
        "theta1 = [ i[1,0] for i in thetas]\n",
        "lossVStheta(theta1, loss_list, 1)"
      ],
      "metadata": {
        "id": "jHO6PEABfnpn",
        "outputId": "59f3b742-bfd6-42d1-c900-0a5e557adb18",
        "colab": {
          "base_uri": "https://localhost:8080/",
          "height": 296
        }
      },
      "id": "jHO6PEABfnpn",
      "execution_count": null,
      "outputs": [
        {
          "output_type": "display_data",
          "data": {
            "text/plain": [
              "<Figure size 432x288 with 1 Axes>"
            ],
            "image/png": "[encoded data removed]"
          },
          "metadata": {
            "needs_background": "light"
          }
        }
      ]
    },
    {
      "cell_type": "code",
      "source": [
        "theta2 = [ i[2,0] for i in thetas]\n",
        "lossVStheta(theta2, loss_list, 2)"
      ],
      "metadata": {
        "id": "LAnmboBJfxcB",
        "outputId": "66e29a28-11b2-40cb-9cfc-f446a5f74870",
        "colab": {
          "base_uri": "https://localhost:8080/",
          "height": 296
        }
      },
      "id": "LAnmboBJfxcB",
      "execution_count": null,
      "outputs": [
        {
          "output_type": "display_data",
          "data": {
            "text/plain": [
              "<Figure size 432x288 with 1 Axes>"
            ],
            "image/png": "[encoded data removed]"
          },
          "metadata": {
            "needs_background": "light"
          }
        }
      ]
    },
    {
      "cell_type": "code",
      "source": [
        "theta3 = [ i[3,0] for i in thetas]\n",
        "lossVStheta(theta3, loss_list, 3)"
      ],
      "metadata": {
        "id": "0quvy1rsfz-A",
        "outputId": "b7452ba1-09db-40b4-8cba-6edfd1903ead",
        "colab": {
          "base_uri": "https://localhost:8080/",
          "height": 296
        }
      },
      "id": "0quvy1rsfz-A",
      "execution_count": null,
      "outputs": [
        {
          "output_type": "display_data",
          "data": {
            "text/plain": [
              "<Figure size 432x288 with 1 Axes>"
            ],
            "image/png": "[encoded data removed]"
          },
          "metadata": {
            "needs_background": "light"
          }
        }
      ]
    },
    {
      "cell_type": "code",
      "source": [
        ""
      ],
      "metadata": {
        "id": "79E-N1UIf2Uf"
      },
      "id": "79E-N1UIf2Uf",
      "execution_count": null,
      "outputs": []
    }
  ],
  "metadata": {
    "kernelspec": {
      "display_name": "Python 3",
      "language": "python",
      "name": "python3"
    },
    "language_info": {
      "codemirror_mode": {
        "name": "ipython",
        "version": 3
      },
      "file_extension": ".py",
      "mimetype": "text/x-python",
      "name": "python",
      "nbconvert_exporter": "python",
      "pygments_lexer": "ipython3",
      "version": "3.8.8"
    },
    "colab": {
      "name": "NOFML&DS Final Practical Exam.ipynb",
      "provenance": [],
      "include_colab_link": true
    }
  },
  "nbformat": 4,
  "nbformat_minor": 5
}